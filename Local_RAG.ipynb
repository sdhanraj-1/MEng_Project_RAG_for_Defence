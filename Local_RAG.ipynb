{
 "cells": [
  {
   "cell_type": "code",
   "execution_count": 15,
   "id": "284e8e76-1629-4936-9e5e-2fda367a2c42",
   "metadata": {},
   "outputs": [],
   "source": [
    "from langchain_community.document_loaders import PyPDFLoader\n",
    "from langchain.text_splitter import RecursiveCharacterTextSplitter\n",
    "from langchain_chroma import Chroma\n",
    "from langchain_ollama import OllamaEmbeddings\n",
    "from langchain.chains import RetrievalQA\n",
    "from langchain_ollama.llms import OllamaLLM\n",
    "import os\n",
    "from langchain.chains import create_retrieval_chain\n",
    "from langchain_core.prompts import ChatPromptTemplate\n",
    "from langchain.chains.combine_documents import create_stuff_documents_chain\n",
    "from langchain_core.output_parsers import StrOutputParser"
   ]
  },
  {
   "cell_type": "markdown",
   "id": "c441aa95-fc47-44b8-bc45-7c1c4d49f03d",
   "metadata": {},
   "source": [
    "https://python.langchain.com/api_reference/ollama/llms/langchain_ollama.llms.OllamaLLM.html#langchain_ollama.llms.OllamaLLM.model"
   ]
  },
  {
   "cell_type": "code",
   "execution_count": 16,
   "id": "a378ce4f-0a1a-4d24-9241-9c6db0aa8fb2",
   "metadata": {},
   "outputs": [],
   "source": [
    "# Load PDF files from a folder\n",
    "def load_pdfs(folder_path):\n",
    "    documents = []\n",
    "    for file in os.listdir(folder_path):\n",
    "        if file.endswith(\".pdf\"):\n",
    "            loader = PyPDFLoader(os.path.join(folder_path, file))\n",
    "            documents.extend(loader.load())\n",
    "    return documents"
   ]
  },
  {
   "cell_type": "code",
   "execution_count": 17,
   "id": "c157ffcc-dfc7-4259-ab58-9d5448eb783f",
   "metadata": {},
   "outputs": [],
   "source": [
    "# Split text into chunks\n",
    "def split_documents(documents):\n",
    "    text_splitter = RecursiveCharacterTextSplitter(\n",
    "        chunk_size=5000, chunk_overlap=50\n",
    "    )\n",
    "    return text_splitter.split_documents(documents)"
   ]
  },
  {
   "cell_type": "code",
   "execution_count": 18,
   "id": "0041c080-9c04-403a-9d0b-d567268f3ba5",
   "metadata": {},
   "outputs": [],
   "source": [
    "# Initialize Chroma vector database\n",
    "def setup_chroma(docs, persist_directory=\"./chroma_db\"):\n",
    "    embeddings = OllamaEmbeddings(model=\"all-minilm\")  # Using model for embeddings\n",
    "    db = Chroma.from_documents(docs, embeddings, persist_directory=persist_directory)\n",
    "    return db"
   ]
  },
  {
   "cell_type": "code",
   "execution_count": 19,
   "id": "0a1ccb39-c2b2-4765-ae58-162abb51e579",
   "metadata": {},
   "outputs": [],
   "source": [
    "# Initialize retrieval and QA system\n",
    "def get_qa_chain(db):\n",
    "    retriever = db.as_retriever()\n",
    "    llm = OllamaLLM(model=\"llama3.2:1b\", num_gpu = -1)\n",
    "\n",
    "\n",
    "    system_prompt = (\n",
    "    \"Use the given context to answer the question. \"\n",
    "    \"If you don't know the answer, say you don't know. \"\n",
    "    \"Use three sentence maximum and keep the answer concise. \"\n",
    "    \"Context: {context}\"\n",
    "    )\n",
    "    prompt = ChatPromptTemplate.from_messages(\n",
    "        [\n",
    "            (\"system\", system_prompt),\n",
    "            (\"human\", \"{input}\"),\n",
    "        ]\n",
    "    )\n",
    "    question_answer_chain = create_stuff_documents_chain(llm, prompt)\n",
    "    chain = create_retrieval_chain(retriever, question_answer_chain)\n",
    "    \n",
    "    qa_chain = RetrievalQA.from_chain_type(llm, retriever=retriever)\n",
    "    return qa_chain"
   ]
  },
  {
   "cell_type": "code",
   "execution_count": 20,
   "id": "78fa7edb-bcbd-4a13-a976-14e5d6f50078",
   "metadata": {},
   "outputs": [],
   "source": [
    "folder_path = \"./LocalDocs\"  # Change this to your actual folder\n",
    "documents = load_pdfs(folder_path)\n",
    "split_docs = split_documents(documents)\n",
    "db = setup_chroma(split_docs)"
   ]
  },
  {
   "cell_type": "code",
   "execution_count": 21,
   "id": "f57292e5-f47c-4bd7-9524-4bc3404400ae",
   "metadata": {},
   "outputs": [],
   "source": [
    "embeddings = OllamaEmbeddings(model=\"all-minilm\")  # Using model for embeddings\n",
    "persist_directory = \"./chroma_db\"\n",
    "db = Chroma(persist_directory=persist_directory, embedding_function=embeddings)\n",
    "qa_chain = get_qa_chain(db)"
   ]
  },
  {
   "cell_type": "code",
   "execution_count": 22,
   "id": "01fa940d-993d-4b50-94b5-87ce88af5440",
   "metadata": {},
   "outputs": [
    {
     "data": {
      "text/plain": [
       "Document(id='4a6ba2f0-7278-417c-a8f7-8555c9dce8e4', metadata={'page': 12, 'page_label': '13', 'source': './LocalDocs\\\\MIL-STD-882E.pdf'}, page_content='MIL-STD-882E \\n7 \\n \\nand sustainment of the system/product/equipment to meet the user’s operational needs.  The PM \\nis accountable for credible cost, schedule, and performance reporting to the Milestone Decision \\nAuthority. \\n \\n3.2.27  Re-use items.  Items previously developed under another program or for a \\nseparate application that are used in a program. \\n \\n3.2.28  Risk.  A combination of the severity of the mishap and the probability that the \\nmishap will occur. \\n \\n3.2.29  Risk level.  The characterization of risk as either High, Serious, Medium, or Low. \\n \\n3.2.30  Safety.  Freedom from conditions that can cause death, injury, occupational \\nillness, damage to or loss of equipment or property, or damage to the environment. \\n \\n3.2.31  Safety-critical.  A term applied to a condition, event, operation, process, or item \\nwhose mishap severity consequence is either Catastrophic or Critical (e.g., safety-critical \\nfunction, safety-critical path, and safety-critical component). \\n \\n3.2.32  Safety-critical function (SCF).  A function whose failure to operate or incorrect \\noperation will directly result in a mishap of either Catastrophic or Critical severity. \\n \\n3.2.33  Safety-critical item (SCI).  A hardware or software item that has been determined \\nthrough analysis to potentially contribute to a hazard with Catastrophic or Critical mishap \\npotential, or that may be implemented to mitigate a hazard with Catastrophic or Critical mishap \\npotential.  The definition of the term \"safety-critical item\" in this Standard is independent of the \\ndefinition of the term \"critical safety item\" in Public Laws 108-136 and 109-364. \\n \\n3.2.34  Safety-related.  A term applied to a condition, event, operation, process, or item \\nwhose mishap severity consequence is either Marginal or Negligible.  \\n \\n3.2.35  Safety-significant.  A term applied to a condition, event, operation, process, or \\nitem that is identified as either safety-critical or safety-related.   \\n \\n3.2.36  Severity.  The magnitude of potential consequences of a mishap to include:  \\ndeath, injury, occupational illness, damage to or loss of equipment or property, damage to the \\nenvironment, or monetary loss. \\n \\n3.2.37  Software.  A combination of associated computer instructions and computer data \\nthat enable a computer to perform computational or control functions.  Software includes \\ncomputer programs, procedures, rules, and any associated documentation pertaining to the \\noperation of a computer system.  Software includes new development, complex programmable \\nlogic devices (firmware), NDI, COTS, GOTS, re-used, GFE, and Government-developed \\nsoftware used in the system. \\n \\nSource: https://assist.dla.mil -- Downloaded: 2024-11-23T20:29Z\\nCheck the source to verify that this is the current version before use.')"
      ]
     },
     "execution_count": 22,
     "metadata": {},
     "output_type": "execute_result"
    }
   ],
   "source": [
    "retriever = db.as_retriever()\n",
    "docs = retriever.invoke(\"safety\")\n",
    "docs[0]"
   ]
  },
  {
   "cell_type": "code",
   "execution_count": 23,
   "id": "25e5047f-dc25-417f-b32d-997665b1283a",
   "metadata": {},
   "outputs": [
    {
     "name": "stdout",
     "output_type": "stream",
     "text": [
      "AI Response: {'query': 'define software safety', 'result': 'Software safety refers to the design, development, testing, and maintenance of software systems that are free from faults, errors, and hazards. It involves ensuring that software meets specific safety standards, requirements, and regulations to prevent accidents, injuries, or damage to people or property.\\n\\nIn other words, software safety is about designing and developing software that is:\\n\\n1. **Fault-tolerant**: able to recover from faults and errors\\n2. **Error-free**: free from defects and bugs\\n3. **Safe**: safe for users, operators, and the environment\\n4. **Robust**: able to withstand various forms of stress and testing\\n5. **Secure**: protected against unauthorized access, modification, or tampering\\n\\nSoftware safety is an essential aspect of software engineering, as it ensures that software systems are reliable, maintainable, and efficient. It also contributes to reducing the risk of errors, defects, and accidents, which can have serious consequences in various industries, such as transportation, healthcare, finance, and aerospace.\\n\\nTo achieve software safety, developers use a range of techniques, including:\\n\\n1. **Design patterns**: pre-defined solutions to common problems\\n2. **Code reviews**: regular checks to identify errors and bugs\\n3. **Testing**: automated and manual testing to verify functionality\\n4. **Safety-critical design**: designing systems that can handle critical conditions\\n5. **Error handling**: designing systems to detect and respond to errors\\n\\nOverall, software safety is a critical aspect of software development that requires careful planning, design, testing, and maintenance to ensure the reliability, maintainability, and efficiency of software systems.'}\n"
     ]
    }
   ],
   "source": [
    "query = \"define software safety\"\n",
    "response = qa_chain.invoke(query)\n",
    "print(\"AI Response:\", response)"
   ]
  }
 ],
 "metadata": {
  "kernelspec": {
   "display_name": "Python 3 (ipykernel)",
   "language": "python",
   "name": "python3"
  },
  "language_info": {
   "codemirror_mode": {
    "name": "ipython",
    "version": 3
   },
   "file_extension": ".py",
   "mimetype": "text/x-python",
   "name": "python",
   "nbconvert_exporter": "python",
   "pygments_lexer": "ipython3",
   "version": "3.12.7"
  }
 },
 "nbformat": 4,
 "nbformat_minor": 5
}
